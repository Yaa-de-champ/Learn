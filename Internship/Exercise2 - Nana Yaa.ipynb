version https://git-lfs.github.com/spec/v1
oid sha256:c378a886ee567fe946fc688b6135505644de23a5eb1dece3ca138712cca0bb76
size 6232
