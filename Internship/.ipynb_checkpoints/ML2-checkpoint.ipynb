version https://git-lfs.github.com/spec/v1
oid sha256:cc129ac0fc48424e10da8f721a25b4894435a7c78c3aba846885aea48f6abfc0
size 86899
