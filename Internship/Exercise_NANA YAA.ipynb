version https://git-lfs.github.com/spec/v1
oid sha256:d2d2116de847b3a9993e15a8c01230e67ae069ba36ac4b469391983eaaef8696
size 6162
