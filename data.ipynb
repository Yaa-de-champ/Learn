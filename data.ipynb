version https://git-lfs.github.com/spec/v1
oid sha256:bdf7c35fbc21945821132f16a997d595eb7b1457f3c719f89af94b4c84ecdfb7
size 67310
