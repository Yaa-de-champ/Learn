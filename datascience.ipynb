{
 "cells": [
  {
   "cell_type": "code",
   "execution_count": 1,
   "metadata": {},
   "outputs": [
    {
     "name": "stdout",
     "output_type": "stream",
     "text": [
      " * Serving Flask app '__main__'\n",
      " * Debug mode: off\n"
     ]
    },
    {
     "name": "stderr",
     "output_type": "stream",
     "text": [
      "WARNING: This is a development server. Do not use it in a production deployment. Use a production WSGI server instead.\n",
      " * Running on http://127.0.0.1:8050\n",
      "Press CTRL+C to quit\n"
     ]
    }
   ],
   "source": [
    "import pandas as pd\n",
    "import plotly.express as px\n",
    "import dash\n",
    "import dash_html_components as html\n",
    "import dash_core_components as dcc\n",
    "\n",
    "# Read the airline data into pandas dataframe\n",
    "airline_data =  pd.read_csv('https://cf-courses-data.s3.us.cloud-object-storage.appdomain.cloud/IBMDeveloperSkillsNetwork-DV0101EN-SkillsNetwork/Data%20Files/airline_data.csv', \n",
    "                            encoding = \"ISO-8859-1\",\n",
    "                            dtype={'Div1Airport': str, 'Div1TailNum': str, \n",
    "                                'Div2Airport': str, 'Div2TailNum': str})\n",
    "\n",
    "# Randomly sample 500 data points. Setting the random state to be 42 so that we get same result.\n",
    "data = airline_data.sample(n=500, random_state=42)\n",
    "\n",
    "# Pie Chart Creation\n",
    "fig = px.pie(data, values='Flights', names='DistanceGroup', title='Distance group proportion by flights')\n",
    "\n",
    "# Create a dash application\n",
    "app = dash.Dash(__name__)\n",
    "\n",
    "# Get the layout of the application and adjust it.\n",
    "# Create an outer division using html.Div and add title to the dashboard using html.H1 component\n",
    "# Add description about the graph using HTML P (paragraph) component\n",
    "# Finally, add graph component.\n",
    "app.layout = html.Div(children=[html.H1('Airline Dashboard', style={'textAlign': 'center', 'color': '#503D36', 'font-size': 40}),\n",
    "                                html.P('Proportion of distance group (250 mile distance interval group) by flights.', style={'textAlign':'center', 'color': '#F57241'}),\n",
    "                                dcc.Graph(figure=fig),\n",
    "                                        ])\n",
    "\n",
    "# Run the application                   \n",
    "if __name__ == '__main__':\n",
    "    app.run_server()"
   ]
  },
  {
   "cell_type": "code",
   "execution_count": 1,
   "metadata": {},
   "outputs": [
    {
     "name": "stderr",
     "output_type": "stream",
     "text": [
      "C:\\Users\\Lenovo\\AppData\\Local\\Temp\\ipykernel_14532\\702588357.py:5: UserWarning: \n",
      "The dash_html_components package is deprecated. Please replace\n",
      "`import dash_html_components as html` with `from dash import html`\n",
      "  import dash_html_components as html\n",
      "C:\\Users\\Lenovo\\AppData\\Local\\Temp\\ipykernel_14532\\702588357.py:6: UserWarning: \n",
      "The dash_core_components package is deprecated. Please replace\n",
      "`import dash_core_components as dcc` with `from dash import dcc`\n",
      "  import dash_core_components as dcc\n"
     ]
    },
    {
     "name": "stdout",
     "output_type": "stream",
     "text": [
      "Dash is running on http://127.0.0.1:8050/\n",
      "\n",
      " * Serving Flask app '__main__'\n",
      " * Debug mode: off\n"
     ]
    },
    {
     "name": "stderr",
     "output_type": "stream",
     "text": [
      "WARNING: This is a development server. Do not use it in a production deployment. Use a production WSGI server instead.\n",
      " * Running on http://127.0.0.1:8050\n",
      "Press CTRL+C to quit\n",
      "127.0.0.1 - - [08/May/2023 01:53:58] \"GET / HTTP/1.1\" 200 -\n",
      "127.0.0.1 - - [08/May/2023 01:53:58] \"GET /_dash-layout HTTP/1.1\" 200 -\n",
      "127.0.0.1 - - [08/May/2023 01:53:58] \"GET /_dash-dependencies HTTP/1.1\" 200 -\n",
      "127.0.0.1 - - [08/May/2023 01:53:58] \"GET /_dash-component-suites/dash/dcc/async-graph.js HTTP/1.1\" 304 -\n",
      "127.0.0.1 - - [08/May/2023 01:53:58] \"GET /_dash-component-suites/dash/dcc/async-plotlyjs.js HTTP/1.1\" 304 -\n",
      "127.0.0.1 - - [08/May/2023 01:53:59] \"POST /_dash-update-component HTTP/1.1\" 200 -\n",
      "127.0.0.1 - - [08/May/2023 01:54:02] \"POST /_dash-update-component HTTP/1.1\" 200 -\n",
      "127.0.0.1 - - [08/May/2023 01:54:04] \"POST /_dash-update-component HTTP/1.1\" 200 -\n",
      "127.0.0.1 - - [08/May/2023 01:54:05] \"POST /_dash-update-component HTTP/1.1\" 200 -\n",
      "127.0.0.1 - - [08/May/2023 01:54:19] \"POST /_dash-update-component HTTP/1.1\" 200 -\n",
      "127.0.0.1 - - [08/May/2023 01:54:20] \"POST /_dash-update-component HTTP/1.1\" 200 -\n",
      "127.0.0.1 - - [08/May/2023 01:54:42] \"POST /_dash-update-component HTTP/1.1\" 200 -\n",
      "127.0.0.1 - - [08/May/2023 01:54:44] \"POST /_dash-update-component HTTP/1.1\" 200 -\n",
      "127.0.0.1 - - [08/May/2023 01:54:46] \"POST /_dash-update-component HTTP/1.1\" 200 -\n",
      "127.0.0.1 - - [08/May/2023 01:54:46] \"POST /_dash-update-component HTTP/1.1\" 200 -\n",
      "127.0.0.1 - - [08/May/2023 01:54:47] \"POST /_dash-update-component HTTP/1.1\" 200 -\n",
      "127.0.0.1 - - [08/May/2023 01:54:47] \"POST /_dash-update-component HTTP/1.1\" 200 -\n"
     ]
    }
   ],
   "source": [
    "# Import required libraries\n",
    "import pandas as pd\n",
    "import plotly.graph_objects as go\n",
    "import dash\n",
    "from dash import html\n",
    "from dash import dcc\n",
    "from dash.dependencies import Input, Output\n",
    "\n",
    "# Read the airline data into the pandas dataframe\n",
    "airline_data =  pd.read_csv('https://cf-courses-data.s3.us.cloud-object-storage.appdomain.cloud/IBMDeveloperSkillsNetwork-DV0101EN-SkillsNetwork/Data%20Files/airline_data.csv', \n",
    "                            encoding = \"ISO-8859-1\",\n",
    "                            dtype={'Div1Airport': str, 'Div1TailNum': str, \n",
    "                                'Div2Airport': str, 'Div2TailNum': str})\n",
    "# Create a dash application\n",
    "app = dash.Dash(__name__)\n",
    "                        \n",
    "app.layout = html.Div(children=[ html.H1('Airline Performance Dashboard',style={'textAlign': 'center', 'color': '#503D36', 'font-size': 40}),\n",
    "                                html.Div([\"Input Year: \", dcc.Input(id='input-year', value='2010', \n",
    "                                type='number', style={'height':'50px', 'font-size': 35}),], \n",
    "                                style={'font-size': 40}),\n",
    "                                html.Br(),\n",
    "                                html.Br(),\n",
    "                                html.Div(dcc.Graph(id='line-plot')),\n",
    "                                ])\n",
    "\n",
    "# add callback decorator\n",
    "@app.callback( Output(component_id='line-plot', component_property='figure'),\n",
    "            Input(component_id='input-year', component_property='value'))\n",
    "\n",
    "# Add computation to callback function and return graph\n",
    "def get_graph(entered_year):\n",
    "    # Select 2019 data\n",
    "    df =  airline_data[airline_data['Year']==int(entered_year)]\n",
    "    \n",
    "    # Group the data by Month and compute average over arrival delay time.\n",
    "    line_data = df.groupby('Month')['ArrDelay'].mean().reset_index()\n",
    "\n",
    "    fig = go.Figure(data=go.Scatter(x=line_data['Month'], y=line_data['ArrDelay'], mode='lines', marker=dict(color='green')))\n",
    "    fig.update_layout(title='Month vs Average Flight Delay Time', xaxis_title='Month', yaxis_title='ArrDelay')\n",
    "    return fig\n",
    "\n",
    "# Run the app\n",
    "if __name__ == '__main__':\n",
    "    app.run_server()"
   ]
  },
  {
   "cell_type": "code",
   "execution_count": 2,
   "metadata": {},
   "outputs": [
    {
     "name": "stdout",
     "output_type": "stream",
     "text": [
      "Name: dash\n",
      "Version: 2.9.3\n",
      "Summary: A Python framework for building reactive web-apps. Developed by Plotly.\n",
      "Home-page: https://plotly.com/dash\n",
      "Author: Chris Parmer\n",
      "Author-email: chris@plotly.com\n",
      "License: MIT\n",
      "Location: c:\\users\\lenovo\\miniconda3\\envs\\myenv\\lib\\site-packages\n",
      "Requires: dash-core-components, dash-html-components, dash-table, Flask, plotly\n",
      "Required-by: \n"
     ]
    }
   ],
   "source": [
    "!pip show dash"
   ]
  },
  {
   "cell_type": "code",
   "execution_count": 3,
   "metadata": {},
   "outputs": [
    {
     "name": "stdout",
     "output_type": "stream",
     "text": [
      "Dash is running on http://127.0.0.1:8050/\n",
      "\n",
      " * Serving Flask app '__main__'\n",
      " * Debug mode: off\n"
     ]
    },
    {
     "name": "stderr",
     "output_type": "stream",
     "text": [
      "WARNING: This is a development server. Do not use it in a production deployment. Use a production WSGI server instead.\n",
      " * Running on http://127.0.0.1:8050\n",
      "Press CTRL+C to quit\n",
      "127.0.0.1 - - [08/May/2023 02:19:09] \"GET / HTTP/1.1\" 200 -\n",
      "127.0.0.1 - - [08/May/2023 02:19:09] \"GET /_dash-layout HTTP/1.1\" 200 -\n",
      "127.0.0.1 - - [08/May/2023 02:19:09] \"GET /_dash-dependencies HTTP/1.1\" 200 -\n",
      "127.0.0.1 - - [08/May/2023 02:19:09] \"GET /_dash-component-suites/dash/dcc/async-dropdown.js HTTP/1.1\" 200 -\n",
      "C:\\Users\\Lenovo\\AppData\\Local\\Temp\\ipykernel_17144\\920343709.py:71: FutureWarning:\n",
      "\n",
      "The default value of numeric_only in DataFrameGroupBy.mean is deprecated. In a future version, numeric_only will default to False. Either specify numeric_only or select only columns which should be valid for the function.\n",
      "\n",
      "127.0.0.1 - - [08/May/2023 02:19:11] \"POST /_dash-update-component HTTP/1.1\" 200 -\n",
      "127.0.0.1 - - [08/May/2023 02:19:11] \"GET /_dash-component-suites/dash/dcc/async-graph.js HTTP/1.1\" 304 -\n",
      "127.0.0.1 - - [08/May/2023 02:19:11] \"GET /_dash-component-suites/dash/dcc/async-plotlyjs.js HTTP/1.1\" 304 -\n",
      "C:\\Users\\Lenovo\\AppData\\Local\\Temp\\ipykernel_17144\\920343709.py:71: FutureWarning:\n",
      "\n",
      "The default value of numeric_only in DataFrameGroupBy.mean is deprecated. In a future version, numeric_only will default to False. Either specify numeric_only or select only columns which should be valid for the function.\n",
      "\n",
      "127.0.0.1 - - [08/May/2023 02:19:55] \"POST /_dash-update-component HTTP/1.1\" 200 -\n"
     ]
    }
   ],
   "source": [
    "import pandas as pd\n",
    "import dash\n",
    "from dash import html\n",
    "from dash import dcc\n",
    "from dash.dependencies import Input, Output, State\n",
    "import plotly.graph_objects as go\n",
    "import plotly.express as px\n",
    "from dash import no_update\n",
    "\n",
    "app = dash.Dash(__name__)\n",
    "\n",
    "# REVIEW1: Clear the layout and do not display exception till callback gets executed\n",
    "app.config.suppress_callback_exceptions = True\n",
    "\n",
    "# Read the automobiles data into pandas dataframe\n",
    "auto_data =  pd.read_csv('automobileEDA.csv', \n",
    "                            encoding = \"ISO-8859-1\",\n",
    "                            )\n",
    "\n",
    "#Layout Section of Dash\n",
    "\n",
    "app.layout = html.Div(children=[html.H1('Car Automobile Components', \n",
    "                                style={'textAlign': 'center', 'color': '#503D36',\n",
    "                                'font-size': 24}),\n",
    "\n",
    "    #outer division starts\n",
    "        html.Div([\n",
    "                # First inner divsion for  adding dropdown helper text for Selected Drive wheels\n",
    "                    html.Div(\n",
    "                            html.H2('Drive Wheels Type:', style={'margin-right': '2em'}),\n",
    "                    ),\n",
    "                    #Second Inner division for adding 2 inner divisions for 2 output graphs \n",
    "\n",
    "                        dcc.Dropdown(\n",
    "                            id='demo-dropdown',\n",
    "                        options=[\n",
    "                            {'label': 'Rear Wheel Drive', 'value': 'rwd'},\n",
    "                            {'label': 'Front Wheel Drive', 'value': 'fwd'},\n",
    "                            {'label': 'Four Wheel Drive', 'value': '4wd'}\n",
    "        ],\n",
    "        value='rwd'\n",
    "        ),\n",
    "                    #Second Inner division for adding 2 inner divisions for 2 output graphs \n",
    "\n",
    "                    html.Div([\n",
    "                \n",
    "                        html.Div([ ], id='plot1'),\n",
    "                        html.Div([ ], id='plot2')\n",
    "\n",
    "                        \n",
    "                    ], style={'display': 'flex'}),\n",
    "\n",
    "    ])\n",
    "    #outer division ends\n",
    "\n",
    "])\n",
    "#layout ends\n",
    "\n",
    "#Place to add @app.callback Decorator\n",
    "@app.callback([Output(component_id='plot1', component_property='children'),\n",
    "            Output(component_id='plot2', component_property='children')],\n",
    "            Input(component_id='demo-dropdown', component_property='value'))\n",
    "\n",
    "\n",
    "#Place to define the callback function .\n",
    "def display_selected_drive_charts(value):\n",
    "\n",
    "\n",
    "\n",
    "    filtered_df = auto_data[auto_data['drive-wheels']==value].groupby(['drive-wheels','body-style'],as_index=False). \\\n",
    "            mean()\n",
    "        \n",
    "    filtered_df = filtered_df\n",
    "\n",
    "    fig1 = px.pie(filtered_df, values='price', names='body-style', title=\"Pie Chart\")\n",
    "    fig2 = px.bar(filtered_df, x='body-style', y='price', title='Bar Chart')\n",
    "    \n",
    "    return [dcc.Graph(figure=fig1),\n",
    "            dcc.Graph(figure=fig2) ]\n",
    "\n",
    "\n",
    "if __name__ == '__main__':\n",
    "    app.run_server()\n",
    "    "
   ]
  }
 ],
 "metadata": {
  "kernelspec": {
   "display_name": "myenv",
   "language": "python",
   "name": "python3"
  },
  "language_info": {
   "codemirror_mode": {
    "name": "ipython",
    "version": 3
   },
   "file_extension": ".py",
   "mimetype": "text/x-python",
   "name": "python",
   "nbconvert_exporter": "python",
   "pygments_lexer": "ipython3",
   "version": "3.10.9 | packaged by Anaconda, Inc. | (main, Mar  8 2023, 10:42:25) [MSC v.1916 64 bit (AMD64)]"
  },
  "orig_nbformat": 4,
  "vscode": {
   "interpreter": {
    "hash": "e5b705084e86d764c57f58bcbe1f1ea3778e3281a0fcf888f61d7a501a99b833"
   }
  }
 },
 "nbformat": 4,
 "nbformat_minor": 2
}
