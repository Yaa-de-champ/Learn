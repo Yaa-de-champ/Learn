{
 "cells": [
  {
   "cell_type": "code",
   "execution_count": 1,
   "metadata": {},
   "outputs": [],
   "source": [
    "import kbtcal as kb\n",
    "import qrcode as qc\n",
    "import PySimpleGUI as sg"
   ]
  }
 ],
 "metadata": {
  "kernelspec": {
   "display_name": "dsenv",
   "language": "python",
   "name": "python3"
  },
  "language_info": {
   "codemirror_mode": {
    "name": "ipython",
    "version": 3
   },
   "file_extension": ".py",
   "mimetype": "text/x-python",
   "name": "python",
   "nbconvert_exporter": "python",
   "pygments_lexer": "ipython3",
   "version": "3.10.9"
  },
  "orig_nbformat": 4,
  "vscode": {
   "interpreter": {
    "hash": "28a9a39dd47eadbe76f8d4b0ab54c407bb716965b6b9d1614c0600643d91cc85"
   }
  }
 },
 "nbformat": 4,
 "nbformat_minor": 2
}
