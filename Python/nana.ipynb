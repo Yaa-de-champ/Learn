{
 "cells": [
  {
   "cell_type": "markdown",
   "id": "4ab98787",
   "metadata": {},
   "source": [
    "# Heading 1\n",
    "## Heading 2\n",
    "\n",
    "# Main Heading\n",
    "\n",
    "This is a paragraph\n",
    "\n",
    "---\n",
    "<hr>\n",
    "\n",
    "### Ordered List\n",
    "---\n",
    "1. Item 1\n",
    "2. Item 2\n",
    "3. Item 3\n",
    "\n",
    "### Unordered List\n",
    "---\n",
    "- Item 1\n",
    "- Item 2\n",
    "- Item 3\n",
    "* New Item\n",
    "* New Item\n",
    "\n",
    "### Text formatting\n",
    "---\n",
    "This is a **bold** text\n",
    "This is a __bold__ text\n",
    "This text is *Italic*\n",
    "This text is _Italic_\n",
    "This text is **_bold and Italic_**\n",
    "\n",
    "The bag is ~~mine~~\n",
    "\n",
    "### Task List\n",
    "---\n",
    "-[x] Item 1\n",
    "-[ ] Item 2\n",
    "-[ ] Item 3\n",
    "\n",
    "### Table\n",
    "---\n",
    "|Number|Name|Date|\n",
    "|:---:  |:---:|:--- |\n",
    "|1   |Nana Yaa| 09-03-2023 |\n",
    "|2  |Cecil Hayibor| 09-03-2023|\n",
    "|3   |Naya James| 09-03-2023 |\n",
    "|4   |Nhyira Lois| 09-03-2023 |\n",
    "|5  |Abdul Aziz| 09-03-2023 |\n",
    "\n",
    "Personal Email](dokuamponsahnanayaaadomaa@gmail.com)\n",
    "\n",
    "### Image\n",
    "---\n",
    "![Image](./axp-photography-kf15Ab-KFnU-unsplash.jpg)\n",
    "\n",
    "### Blockquote\n",
    "> This is a blockquote\n",
    "\n",
    "> This is another blockquote\n",
    "\n",
    "### Code\n",
    "---\n",
    "\n",
    "This is a code : `print(\"Hello World\")`\n",
    "\n",
    "\n",
    "```python\n",
    "for x in range(10):\n",
    "    print(x)\n",
    "```\n",
    "```python\n",
    "personal_info = {\n",
    "    'name' = 'Nana Yaa',\n",
    "    'age' = 19,    \n",
    "}\n",
    "```\n",
    "\n",
    "\n",
    "\n",
    "```js\n",
    "console.log(\"Hello World\")\n",
    "```\n",
    "\n",
    "\n",
    "### Another Line\n",
    "---\n",
    "\n",
    "This is my [Document](./The%20Future%20of%20the%20Mind%20The%20Scientific%20Quest%20to%20Understand%2C%20Enhance%2C%20and%20Empower%20the%20Mind%20by%20Michio%20Kaku%20(z-lib.org).epub.pdf)\n",
    "\n",
    "\n",
    "I created this [html file](./kobby.html)\n",
    "\n"
   ]
  },
  {
   "cell_type": "code",
   "execution_count": 1,
   "id": "31a9d6bd",
   "metadata": {},
   "outputs": [],
   "source": [
    "import qrcode"
   ]
  },
  {
   "cell_type": "code",
   "execution_count": 2,
   "id": "a097e175",
   "metadata": {},
   "outputs": [],
   "source": [
    "image = qrcode.make('https://github.com/Yaa-de-champ')\n",
    "image.save('qrcode.png')"
   ]
  },
  {
   "cell_type": "code",
   "execution_count": 1,
   "id": "1a68db44",
   "metadata": {},
   "outputs": [],
   "source": [
    "import qrcode"
   ]
  },
  {
   "cell_type": "code",
   "execution_count": 2,
   "id": "def198c7",
   "metadata": {},
   "outputs": [],
   "source": [
    "linkedin = qrcode.make('https://www.linkedin.com/in/nana-yaa-adomaa-doku-amponsah-078854235/')\n",
    "linkedin.save('linkedin.png')"
   ]
  },
  {
   "cell_type": "code",
   "execution_count": null,
   "id": "adb8427e",
   "metadata": {},
   "outputs": [],
   "source": []
  }
 ],
 "metadata": {
  "kernelspec": {
   "display_name": "Python 3 (ipykernel)",
   "language": "python",
   "name": "python3"
  },
  "language_info": {
   "codemirror_mode": {
    "name": "ipython",
    "version": 3
   },
   "file_extension": ".py",
   "mimetype": "text/x-python",
   "name": "python",
   "nbconvert_exporter": "python",
   "pygments_lexer": "ipython3",
   "version": "3.10.9 | packaged by Anaconda, Inc. | (main, Mar  8 2023, 10:42:25) [MSC v.1916 64 bit (AMD64)]"
  },
  "vscode": {
   "interpreter": {
    "hash": "28a9a39dd47eadbe76f8d4b0ab54c407bb716965b6b9d1614c0600643d91cc85"
   }
  }
 },
 "nbformat": 4,
 "nbformat_minor": 5
}
